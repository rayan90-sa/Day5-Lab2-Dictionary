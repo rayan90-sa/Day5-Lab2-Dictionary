{
 "cells": [
  {
   "cell_type": "code",
   "execution_count": null,
   "id": "2103efa8",
   "metadata": {},
   "outputs": [],
   "source": [
    "\"\"\"Build a phone book program that receives the phone number, and returns the name of the owner.\n",
    "You can follow the table below:\n",
    "\n",
    "Name\tNumber\n",
    "Amal\t1111111111\n",
    "Mohammed\t2222222222\n",
    "Khadijah\t3333333333\n",
    "Abdullah\t4444444444\n",
    "Rawan\t5555555555\n",
    "Faisal\t6666666666\n",
    "Layla\t7777777777\"\"\""
   ]
  },
  {
   "cell_type": "code",
   "execution_count": 3,
   "id": "afa2cf0b",
   "metadata": {},
   "outputs": [
    {
     "name": "stdout",
     "output_type": "stream",
     "text": [
      "{'Amal': 1111111111, 'Mohammed': 2222222222, 'Khadijah': 3333333333, 'Abdullah': 4444444444, 'Rawan': 5555555555, 'Faisal': 6666666666, 'Layla': 7777777777}\n"
     ]
    }
   ],
   "source": [
    "#i need name and number of dict\n",
    "dict_1 = {\"Amal\": 1111111111, \"Mohammed\": 2222222222,\n",
    "          \"Khadijah\": 3333333333, \"Abdullah\": 4444444444,\n",
    "          \"Rawan\":5555555555, \"Faisal\": 6666666666, \n",
    "          \"Layla\": 7777777777}\n",
    "\n",
    "print(dict_1)"
   ]
  },
  {
   "cell_type": "code",
   "execution_count": null,
   "id": "c34fbacf",
   "metadata": {},
   "outputs": [],
   "source": [
    "#If the number exists, print the owner. Otherwise, print \"Sorry, the number is not found\"."
   ]
  },
  {
   "cell_type": "code",
   "execution_count": 6,
   "id": "7090185d",
   "metadata": {},
   "outputs": [
    {
     "name": "stdout",
     "output_type": "stream",
     "text": [
      "input your number 1111111111\n",
      "Amal\n"
     ]
    }
   ],
   "source": [
    "# v = value and k = kye  dict_1 my dict\n",
    "user_1 = input('input your number ')\n",
    "for k , v in dict_1.items():# if user input = value\n",
    "    if v ==int(user_1):\n",
    "        print(k)\n",
    "    #elif"
   ]
  },
  {
   "cell_type": "code",
   "execution_count": null,
   "id": "b97d41aa",
   "metadata": {},
   "outputs": [],
   "source": []
  }
 ],
 "metadata": {
  "kernelspec": {
   "display_name": "Python 3 (ipykernel)",
   "language": "python",
   "name": "python3"
  },
  "language_info": {
   "codemirror_mode": {
    "name": "ipython",
    "version": 3
   },
   "file_extension": ".py",
   "mimetype": "text/x-python",
   "name": "python",
   "nbconvert_exporter": "python",
   "pygments_lexer": "ipython3",
   "version": "3.9.12"
  }
 },
 "nbformat": 4,
 "nbformat_minor": 5
}
